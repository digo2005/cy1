{
 "cells": [
  {
   "cell_type": "code",
   "execution_count": 15,
   "id": "c364b07a-efb0-4acb-84ba-397f0def8d3c",
   "metadata": {},
   "outputs": [
    {
     "name": "stdout",
     "output_type": "stream",
     "text": [
      "True\n",
      "False\n",
      "True\n",
      "True\n",
      "False\n",
      "False\n",
      "True\n"
     ]
    }
   ],
   "source": [
    "#igualdade\n",
    "numero1=10\n",
    "numero2=50\n",
    "texto1=\"ctrl\"\n",
    "texto2=\"play\"\n",
    "c1=numero1*5==numero2\n",
    "c2=texto1==texto2\n",
    "print(c1)\n",
    "print(c2)\n",
    "#desigualdade\n",
    "c3=numero1!=numero2\n",
    "c4=texto1!=texto2\n",
    "print(c3)\n",
    "print(c4)\n",
    "numero3=20\n",
    "numero4=60\n",
    "c5=numero3==numero4\n",
    "c6=numero3>numero4\n",
    "c7=numero3!=numero4\n",
    "print(c5)\n",
    "print(c6)\n",
    "print(c7)"
   ]
  },
  {
   "cell_type": "code",
   "execution_count": 16,
   "id": "9df59b0c-3b95-4ec7-a0d3-18eff69fa0c6",
   "metadata": {},
   "outputs": [
    {
     "name": "stdout",
     "output_type": "stream",
     "text": [
      "True True True\n"
     ]
    }
   ],
   "source": [
    "#duas comparações em cadeia\n",
    "c1=1<2<3\n",
    "#utilizando o comando and\n",
    "c2=1<2 and 2<3\n",
    "#utilizando o comando or\n",
    "c3=1==2 or 2<3\n",
    "print(c1,c2,c3)"
   ]
  },
  {
   "cell_type": "code",
   "execution_count": 19,
   "id": "7d2fe5eb-50c2-49f3-85e5-772400e3aed5",
   "metadata": {},
   "outputs": [
    {
     "name": "stdout",
     "output_type": "stream",
     "text": [
      "aprovado\n"
     ]
    }
   ],
   "source": [
    "#condicional simples\n",
    "nota=8\n",
    "if nota>=6:\n",
    "    print(\"aprovado\")"
   ]
  },
  {
   "cell_type": "code",
   "execution_count": 20,
   "id": "381514db-ba3c-4182-86df-1b64d1917b9a",
   "metadata": {},
   "outputs": [
    {
     "name": "stdout",
     "output_type": "stream",
     "text": [
      "reprovado\n"
     ]
    }
   ],
   "source": [
    "#condicional composta\n",
    "nota=3\n",
    "if nota>=6:\n",
    "    print(\"aprovado\")\n",
    "else:\n",
    "    print(\"reprovado\")"
   ]
  },
  {
   "cell_type": "code",
   "execution_count": 23,
   "id": "b573b811-2e74-42f7-8bc8-1ab26c059748",
   "metadata": {},
   "outputs": [
    {
     "name": "stdin",
     "output_type": "stream",
     "text": [
      "digite seu nome rodrigo\n",
      "qual a sua idade 19\n"
     ]
    },
    {
     "name": "stdout",
     "output_type": "stream",
     "text": [
      "rodrigo é maior\n"
     ]
    }
   ],
   "source": [
    "#entrada\n",
    "pessoa=str(input(\"digite seu nome\"))\n",
    "idade=int(input(\"qual a sua idade\"))\n",
    "if idade>=18:\n",
    "    print(\"{} é maior\".format(pessoa))\n",
    "else:\n",
    "    print(\"{} é menor\".format(pessoa))"
   ]
  },
  {
   "cell_type": "code",
   "execution_count": 24,
   "id": "863e3487-5ab1-43ba-b663-1a7883a9c127",
   "metadata": {},
   "outputs": [
    {
     "name": "stdout",
     "output_type": "stream",
     "text": [
      "recuperação\n"
     ]
    }
   ],
   "source": [
    "#condicionais aninhadas\n",
    "nota=5.5\n",
    "if nota>=6:\n",
    "    print (\"aprovado\")\n",
    "elif 4<nota<6:\n",
    "    print (\"recuperação\")\n",
    "else:\n",
    "    print (\"reprovado\")"
   ]
  },
  {
   "cell_type": "code",
   "execution_count": 31,
   "id": "dcd11754-825c-4b25-a661-498000e0b937",
   "metadata": {},
   "outputs": [
    {
     "name": "stdin",
     "output_type": "stream",
     "text": [
      "digite a sua altura 1.70\n",
      "digite o seu peso 50\n"
     ]
    },
    {
     "name": "stdout",
     "output_type": "stream",
     "text": [
      "17.301038062283737\n",
      "baixo peso\n"
     ]
    }
   ],
   "source": [
    "altura=float(input(\"digite a sua altura\"))\n",
    "peso=float(input(\"digite o seu peso\"))\n",
    "imc=peso/(altura**2)\n",
    "print(imc)\n",
    "if imc<18.5:\n",
    "   print(\"baixo peso\")\n",
    "elif imc>18.5 and imc<25:\n",
    "    print(\"peso adequado\")\n",
    "elif imc>25 and imc<30:\n",
    "    print(\"sobre peso\")\n",
    "elif imc>30 and imc<35:\n",
    "    print(\"obesidade grau 1\")\n",
    "elif imc>35 and imc<40:\n",
    "    print(\"obesidade grau 2\")\n",
    "else:  \n",
    "    print(\"obesidade extrema\")   "
   ]
  },
  {
   "cell_type": "code",
   "execution_count": 62,
   "id": "d8f2d688-def5-4094-a2cf-664811698fd0",
   "metadata": {},
   "outputs": [
    {
     "name": "stdin",
     "output_type": "stream",
     "text": [
      "digite um número de 1 ao 12 12\n"
     ]
    },
    {
     "name": "stdout",
     "output_type": "stream",
     "text": [
      "december\n"
     ]
    }
   ],
   "source": [
    "mês=int(input(\"digite um número de 1 ao 12\"))\n",
    "if mês==1:\n",
    "    print (\"january\")\n",
    "elif mês==2:\n",
    "    print (\"february\")\n",
    "elif mês==3:\n",
    "    print (\"march\")\n",
    "elif mês==4:\n",
    "    print (\"april\")\n",
    "elif mês==5:\n",
    "    print (\"may\")\n",
    "elif mês==6:\n",
    "    print (\"june\")\n",
    "elif mês==7:\n",
    "    print (\"july\")\n",
    "elif mês==8:\n",
    "    print (\"august\")\n",
    "elif mês==9:\n",
    "    print (\"september\")\n",
    "elif mês==10:\n",
    "    print (\"october\")\n",
    "elif mês==11:\n",
    "    print (\"november\")\n",
    "elif mês==12:\n",
    "    print (\"december\") "
   ]
  },
  {
   "cell_type": "code",
   "execution_count": 77,
   "id": "7e11b094-e065-4828-8ea6-e08c3b56c7de",
   "metadata": {},
   "outputs": [
    {
     "name": "stdin",
     "output_type": "stream",
     "text": [
      "digite o código do seu pedido 5\n",
      "digite a quantidade do seu pedido 2\n"
     ]
    },
    {
     "name": "stdout",
     "output_type": "stream",
     "text": [
      "total:r$3.00\n"
     ]
    }
   ],
   "source": [
    "cod=int(input(\"digite o código do seu pedido\"))\n",
    "quant=int(input(\"digite a quantidade do seu pedido\"))\n",
    "if cod==1:\n",
    "    print(\"total:r${:.2f}\".format(4*quant))\n",
    "elif cod==2:\n",
    "    print(\"total:r${:.2f}\".format(4.50*quant))\n",
    "elif cod==3:\n",
    "    print(\"total:r${:.2f}\".format(5*quant))\n",
    "elif cod==4:\n",
    "    print(\"total:r${:.2f}\".format(2*quant))\n",
    "elif cod==5:\n",
    "    print(\"total:r${:.2f}\".format(1.50*quant))"
   ]
  },
  {
   "cell_type": "code",
   "execution_count": 79,
   "id": "9ccacd2b-5783-4247-bbd5-4352f906fe37",
   "metadata": {},
   "outputs": [
    {
     "name": "stdin",
     "output_type": "stream",
     "text": [
      "digite o número da casa do cavalheiro de ouro 5\n"
     ]
    },
    {
     "name": "stdout",
     "output_type": "stream",
     "text": [
      "aioria de leão\n"
     ]
    }
   ],
   "source": [
    "#tarefa 4\n",
    "casa=int(input(\"digite o número da casa do cavalheiro de ouro\"))\n",
    "if casa==1:\n",
    "    print(\"mu de áries\")\n",
    "elif casa==2:\n",
    "    print(\"aldebaran de touro\")\n",
    "elif casa==3:\n",
    "    print(\"saga de gêmeos\")\n",
    "elif casa==4:\n",
    "    print(\"máscara da morte câncer\")\n",
    "elif casa==5:\n",
    "    print(\"aioria de leão\")\n",
    "elif casa==6:\n",
    "    print(\"shaka de virgem\")\n",
    "elif casa==7:\n",
    "    print(\"mestre ancião de libra\")\n",
    "elif casa==8:\n",
    "    print(\"milo de escorpião\")\n",
    "elif casa==9:\n",
    "    print(\"aioros de sagitário\")\n",
    "elif casa==10:\n",
    "    print(\"shura de capricórnio\")\n",
    "elif casa==11:\n",
    "    print(\"camus de aquário\")\n",
    "elif casa==12:\n",
    "    print(\"afrodite de peixes\") "
   ]
  }
 ],
 "metadata": {
  "kernelspec": {
   "display_name": "Python 3 (ipykernel)",
   "language": "python",
   "name": "python3"
  },
  "language_info": {
   "codemirror_mode": {
    "name": "ipython",
    "version": 3
   },
   "file_extension": ".py",
   "mimetype": "text/x-python",
   "name": "python",
   "nbconvert_exporter": "python",
   "pygments_lexer": "ipython3",
   "version": "3.11.7"
  }
 },
 "nbformat": 4,
 "nbformat_minor": 5
}
