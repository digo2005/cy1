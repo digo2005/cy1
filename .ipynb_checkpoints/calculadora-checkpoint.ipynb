{
 "cells": [
  {
   "cell_type": "code",
   "execution_count": 9,
   "id": "a2edf735-8de7-4c2c-9e46-51435c8df0a1",
   "metadata": {},
   "outputs": [],
   "source": [
    "def soma (x,y):\n",
    "    \"\"\"param x=primeiro número\n",
    "    param y=segundo número\n",
    "    faz a soma entre x e y\n",
    "    ex:soma(1,2) 3\n",
    "    \"\"\"\n",
    "    return x+y\n",
    "def sub (x,y):\n",
    "    return x-y\n",
    "\n",
    "def mult(x,y):\n",
    "    return x*y\n",
    "\n",
    "def div(x,y):\n",
    "    return x/y"
   ]
  },
  {
   "cell_type": "code",
   "execution_count": null,
   "id": "661f5e01-329d-44c0-bd46-f8cfd9e53299",
   "metadata": {},
   "outputs": [],
   "source": []
  }
 ],
 "metadata": {
  "kernelspec": {
   "display_name": "Python 3 (ipykernel)",
   "language": "python",
   "name": "python3"
  },
  "language_info": {
   "codemirror_mode": {
    "name": "ipython",
    "version": 3
   },
   "file_extension": ".py",
   "mimetype": "text/x-python",
   "name": "python",
   "nbconvert_exporter": "python",
   "pygments_lexer": "ipython3",
   "version": "3.11.7"
  }
 },
 "nbformat": 4,
 "nbformat_minor": 5
}
