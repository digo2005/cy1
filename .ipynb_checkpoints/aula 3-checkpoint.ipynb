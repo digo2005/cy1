{
 "cells": [
  {
   "cell_type": "code",
   "execution_count": 9,
   "id": "da45f0ed-556c-48f7-b152-fb908b779914",
   "metadata": {},
   "outputs": [
    {
     "name": "stdout",
     "output_type": "stream",
     "text": [
      "[0, 1, 2]\n",
      "['joão', 'maria', 'mateus', 'rebeca']\n"
     ]
    }
   ],
   "source": [
    "lista=[0,1,2]\n",
    "print(lista)\n",
    "nomes=[\"joão\",\"maria\",\"mateus\",\"rebeca\"]\n",
    "print(nomes)"
   ]
  },
  {
   "cell_type": "code",
   "execution_count": 37,
   "id": "1e7beaec-445b-4fb0-9877-420e66785584",
   "metadata": {},
   "outputs": [
    {
     "name": "stdout",
     "output_type": "stream",
     "text": [
      "['josé', 'lucas', 'ana', 'enzo', 'valentina']\n",
      "primeiro convidado: josé\n",
      "penúltimo convidado: enzo\n",
      "alterando o primeiro convidado: ['beatriz', 'lucas', 'ana', 'enzo', 'valentina']\n",
      "['beatriz', 'lucas', 'ana', 'enzo', 'valentina', 'joaquim']\n",
      "inserindo um convidado na posição 0:['joão', 'beatriz', 'lucas', 'ana', 'enzo', 'valentina', 'joaquim']\n",
      "removendo o convidado da posição 3: ['joão', 'beatriz', 'lucas', 'enzo', 'valentina', 'joaquim']\n",
      "removendo o segundo convidado:beatriz\n",
      "convidado viajando:lucas.confirmados: ['joão', 'enzo', 'valentina', 'joaquim']\n",
      "invertendo a ordem:['joaquim', 'valentina', 'enzo', 'joão']\n",
      "ordem crescente:['enzo', 'joaquim', 'joão', 'valentina']\n",
      "ordem decrescente:['valentina', 'joão', 'joaquim', 'enzo']\n"
     ]
    }
   ],
   "source": [
    "convidados=[\"josé\",\"lucas\",\"ana\",\"enzo\",\"valentina\"]\n",
    "print(convidados)\n",
    "print(\"primeiro convidado: {}\".format (convidados[0]))\n",
    "print(\"penúltimo convidado: {}\".format (convidados[3]))\n",
    "#alterando o primeiro convidado\n",
    "convidados[0]=\"beatriz\"\n",
    "print(\"alterando o primeiro convidado: {}\".format(convidados))\n",
    "#concatenando\n",
    "convidados.append(\"joaquim\")\n",
    "print(convidados)\n",
    "#inserindo \n",
    "convidados.insert(0,\"joão\")\n",
    "print(\"inserindo um convidado na posição 0:{}\".format(convidados))\n",
    "#removendo itens\n",
    "del convidados[3]\n",
    "print (\"removendo o convidado da posição 3: {}\".format(convidados))\n",
    "#removendo com identificação\n",
    "segundo=convidados.pop(1)\n",
    "print(\"removendo o segundo convidado:{}\".format(segundo))\n",
    "#removendo sem saber a posição\n",
    "viajando=\"lucas\"\n",
    "convidados.remove(viajando)\n",
    "print(\"convidado viajando:{}.confirmados: {}\".format(viajando, convidados))\n",
    "#invertendo a ordem da lista \n",
    "convidados.reverse()\n",
    "print(\"invertendo a ordem:{}\".format(convidados))\n",
    "#ordem crescente\n",
    "convidados.sort()\n",
    "print(\"ordem crescente:{}\".format(convidados))\n",
    "#ordem decrescente\n",
    "convidados.sort(reverse=True)\n",
    "print(\"ordem decrescente:{}\".format(convidados))"
   ]
  },
  {
   "cell_type": "code",
   "execution_count": 55,
   "id": "5bdea6bc-8731-4477-bf93-7edd4abeb37f",
   "metadata": {},
   "outputs": [
    {
     "name": "stdout",
     "output_type": "stream",
     "text": [
      "5\n",
      "[1, 2, 3, 4, 5, 6, 7, 8, 9, 10, 11, 12, 13, 14, 15, 16, 17, 18, 19, 20, 21, 22, 23, 24, 25, 26, 27, 28, 29, 30, 31, 32, 33, 34, 35, 36, 37, 38, 39, 40, 41, 42, 43, 44, 45, 46, 47, 48, 49, 50, 51, 52, 53, 54, 55, 56, 57, 58, 59, 60, 61, 62, 63, 64, 65, 66, 67, 68, 69, 70, 71, 72, 73, 74, 75, 76, 77, 78, 79, 80, 81, 82, 83, 84, 85, 86, 87, 88, 89, 90, 91, 92, 93, 94, 95, 96, 97, 98, 99, 100]\n",
      "1\n",
      "100\n",
      "['josé', 'lucas', 'ana']\n",
      "['josé', 'lucas', 'ana', 'enzo', 'valentina']\n"
     ]
    }
   ],
   "source": [
    "convidados=[\"josé\",\"lucas\",\"ana\",\"enzo\",\"valentina\"]\n",
    "#tamanho da lista\n",
    "print(len(convidados))\n",
    "#lista de números\n",
    "números=list(range(1,101))\n",
    "print(números)\n",
    "#menor valor\n",
    "print(min(números))\n",
    "#maior valor\n",
    "print(max(números))\n",
    "#fatia \n",
    "print(convidados[0:3])\n",
    "#copiando uma lista \n",
    "convidados2=convidados[:]\n",
    "print(convidados2)"
   ]
  },
  {
   "cell_type": "code",
   "execution_count": 75,
   "id": "18be7850-5868-49e6-869e-287adee88897",
   "metadata": {},
   "outputs": [
    {
     "name": "stdout",
     "output_type": "stream",
     "text": [
      "['açúcar', 'ovos', 'sal']\n",
      "['açúcar', 'ovos', 'sal', 'manteiga']\n",
      "['açúcar', 'sal', 'manteiga']\n",
      "preço muito alto:manteiga\n"
     ]
    }
   ],
   "source": [
    "supermercado=[\"farinha\",\"ovos\",\"sal\"]\n",
    "supermercado[0]=\"açúcar\"\n",
    "print(supermercado)\n",
    "supermercado.insert(3,\"manteiga\")\n",
    "print(supermercado)\n",
    "del supermercado[1]\n",
    "print(supermercado)\n",
    "print(\"preço muito alto:{}\".format(supermercado[2]))"
   ]
  },
  {
   "cell_type": "code",
   "execution_count": 79,
   "id": "68f5a813-bfec-48fa-8fa1-94833a10d465",
   "metadata": {},
   "outputs": [
    {
     "name": "stdout",
     "output_type": "stream",
     "text": [
      "manteiga = 3.0\n",
      "ovos = 1.5\n",
      "sal = 2.0\n"
     ]
    }
   ],
   "source": [
    "supermercadopreço=[[\"manteiga\",\"ovos\",\"sal\"],[3.00,1.50,2.00]]\n",
    "print(\"{} = {}\".format(supermercadopreço[0][0],supermercadopreço[1][0]))\n",
    "print(\"{} = {}\".format(supermercadopreço[0][1],supermercadopreço[1][1]))\n",
    "print(\"{} = {}\".format(supermercadopreço[0][2],supermercadopreço[1][2]))"
   ]
  },
  {
   "cell_type": "code",
   "execution_count": 84,
   "id": "bab3a44d-c87c-4e7e-a2b9-96b1aea8af30",
   "metadata": {},
   "outputs": [
    {
     "name": "stdin",
     "output_type": "stream",
     "text": [
      "digite um número 2\n"
     ]
    },
    {
     "name": "stdout",
     "output_type": "stream",
     "text": [
      "[2, 4, 8, 16, 32, 64, 128, 256, 512, 1024]\n"
     ]
    }
   ],
   "source": [
    "num=int(input(\"digite um número\"))\n",
    "lista=[num,num*2,num*2**2,num*2**3,num*2**4,num*2**5,num*2**6,num*2**7,num*2**8,num*2**9]\n",
    "print(lista)"
   ]
  }
 ],
 "metadata": {
  "kernelspec": {
   "display_name": "Python 3 (ipykernel)",
   "language": "python",
   "name": "python3"
  },
  "language_info": {
   "codemirror_mode": {
    "name": "ipython",
    "version": 3
   },
   "file_extension": ".py",
   "mimetype": "text/x-python",
   "name": "python",
   "nbconvert_exporter": "python",
   "pygments_lexer": "ipython3",
   "version": "3.11.7"
  }
 },
 "nbformat": 4,
 "nbformat_minor": 5
}
