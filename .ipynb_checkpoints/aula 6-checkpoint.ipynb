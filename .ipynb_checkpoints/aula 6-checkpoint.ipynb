{
 "cells": [
  {
   "cell_type": "code",
   "execution_count": 3,
   "id": "f2cf9236-4de9-4cc3-8cda-f44319a83913",
   "metadata": {},
   "outputs": [
    {
     "name": "stdout",
     "output_type": "stream",
     "text": [
      "três\n",
      "('três', True, 4.5)\n",
      "4.5\n"
     ]
    }
   ],
   "source": [
    "t=(\"um\",2,\"três\",True,4.5,\"cinco\",False)\n",
    "print(t[2])\n",
    "print(t[2:5])\n",
    "print(t[4])"
   ]
  },
  {
   "cell_type": "code",
   "execution_count": 5,
   "id": "e2253ee0-8341-4b32-81e5-df9f449082a8",
   "metadata": {},
   "outputs": [
    {
     "name": "stdout",
     "output_type": "stream",
     "text": [
      "11\n",
      "6\n",
      "1\n"
     ]
    },
    {
     "data": {
      "text/plain": [
       "1"
      ]
     },
     "execution_count": 5,
     "metadata": {},
     "output_type": "execute_result"
    }
   ],
   "source": [
    "t=(1,2,3,4,5,6,7,8,9,10,2)\n",
    "print(len(t))\n",
    "print(t.index(7))\n",
    "print(t.count(7))\n",
    "t[0]"
   ]
  },
  {
   "cell_type": "code",
   "execution_count": 6,
   "id": "e67398a3-7ba6-4d90-bd2a-75b33dbaeb82",
   "metadata": {},
   "outputs": [
    {
     "name": "stdout",
     "output_type": "stream",
     "text": [
      "{1, 2}\n",
      "{1, 2}\n"
     ]
    }
   ],
   "source": [
    "x=set()\n",
    "x.add(1)\n",
    "x.add(2)\n",
    "print(x)\n",
    "x.add(1)\n",
    "print(x)"
   ]
  },
  {
   "cell_type": "code",
   "execution_count": 10,
   "id": "a4fb3bb7-f051-4b3c-8a97-c73ad88df66c",
   "metadata": {},
   "outputs": [
    {
     "name": "stdout",
     "output_type": "stream",
     "text": [
      "True False True True None\n"
     ]
    }
   ],
   "source": [
    "a=True\n",
    "b=False\n",
    "c=1<2\n",
    "d=7>10 or 15>5\n",
    "e=None\n",
    "print(a,b,c,d,e)"
   ]
  },
  {
   "cell_type": "code",
   "execution_count": 17,
   "id": "5c74e2d5-ba94-4db2-b9a1-bb66af8a8949",
   "metadata": {},
   "outputs": [
    {
     "name": "stdout",
     "output_type": "stream",
     "text": [
      "dict_values(['toy story', '1995', 'nome do diretor'])\n",
      "dict_keys(['titulo', 'ano', 'diretor'])\n",
      "dict_items([('titulo', 'toy story'), ('ano', '1995'), ('diretor', 'nome do diretor')])\n",
      "o titulo é toy story\n",
      "o ano é 1995\n",
      "o diretor é nome do diretor\n"
     ]
    }
   ],
   "source": [
    "filme={\"titulo\":\"toy story\",\"ano\":\"1995\",\"diretor\":\"nome do diretor\"}\n",
    "print(filme.values())\n",
    "print(filme.keys())\n",
    "print(filme.items())\n",
    "for k,v in filme.items():\n",
    "    print(\"o {} é {}\".format(k,v))\n",
    "    "
   ]
  },
  {
   "cell_type": "code",
   "execution_count": 27,
   "id": "a9e4c470-e2ee-4979-b24b-aba817acefd2",
   "metadata": {},
   "outputs": [
    {
     "name": "stdout",
     "output_type": "stream",
     "text": [
      "o dog é cachorro\n",
      "o cat é gato\n",
      "o pig é porco\n",
      "o cow é vaca\n",
      "o bird é passaro\n",
      "o chicken é galinha\n"
     ]
    }
   ],
   "source": [
    "dicionarioinglesportugues = {\"dog\":\"cachorro\",\"cat\":\"gato\"}\n",
    "dicionarioinglesportugues[\"pig\"]=\"porco\"\n",
    "dicionarioinglesportugues[\"cow\"]=\"vaca\"\n",
    "dicionarioinglesportugues[\"bird\"]=\"passaro\"\n",
    "dicionarioinglesportugues[\"chicken\"]=\"galinha\"\n",
    "for k,v in dicionarioinglesportugues.items():\n",
    "    print(\"o {} é {}\".format(k,v))"
   ]
  },
  {
   "cell_type": "code",
   "execution_count": 39,
   "id": "37f4c0a4-1817-4abc-99ac-b319db2b5c3d",
   "metadata": {},
   "outputs": [
    {
     "name": "stdin",
     "output_type": "stream",
     "text": [
      " 30\n"
     ]
    },
    {
     "name": "stdout",
     "output_type": "stream",
     "text": [
      "DDD nao cadastrado\n"
     ]
    }
   ],
   "source": [
    "ddd={61:\"Brasilia\",71:\"Salvador\",11:\"Sao Paulo\",21:\"Rio de Janeiro\",32:\"Juiz de Fora\",19:\"Campinas\",27:\"Vitoria\",31:\"Belo Horizonte\"}\n",
    "n=int(input())\n",
    "if n not in ddd:\n",
    "    print(\"DDD nao cadastrado\")\n",
    "else:\n",
    "    print(ddd[n])"
   ]
  },
  {
   "cell_type": "code",
   "execution_count": 54,
   "id": "2b71840a-14b8-491c-b1c9-5c19a259710c",
   "metadata": {},
   "outputs": [
    {
     "name": "stdin",
     "output_type": "stream",
     "text": [
      " 3\n",
      " 3 c\n",
      " 2 r\n",
      " 3 s\n"
     ]
    },
    {
     "name": "stdout",
     "output_type": "stream",
     "text": [
      "Total:8 cobaias\n",
      "Total de coelhos:3\n",
      "Total de ratos:2\n",
      "Total de sapos:3\n",
      "Percentual de coelhos:37.50 %\n",
      "Percentual de ratos:25.00 %\n",
      "Percentual de sapos:37.50 %\n"
     ]
    }
   ],
   "source": [
    "tot_quantia=tot_rato=tot_sapo=tot_coelho=0\n",
    "casos=int(input())\n",
    "for c in range (0,casos):\n",
    "    q=str(input()).split()\n",
    "    quantia=int(q[0])\n",
    "    cobaia=str(q[1]).upper()[0]\n",
    "    tot_quantia=tot_quantia+quantia\n",
    "    if cobaia in \"Rr\":\n",
    "        tot_rato=tot_rato+quantia\n",
    "    if cobaia in \"Ss\":\n",
    "        tot_sapo=tot_sapo+quantia\n",
    "    if cobaia in \"Cc\":\n",
    "        tot_coelho=tot_coelho+quantia\n",
    "percent_rato=tot_rato/tot_quantia*100\n",
    "percent_sapo=tot_sapo/tot_quantia*100\n",
    "percent_coelho=tot_coelho/tot_quantia*100\n",
    "print(\"Total: {} cobaias\".format(tot_quantia))\n",
    "print(\"Total de coelhos: {}\".format(tot_coelho))\n",
    "print(\"Total de ratos: {}\".format(tot_rato))\n",
    "print(\"Total de sapos: {}\".format(tot_sapo))\n",
    "print(\"Percentual de coelhos: {:.2f} %\".format(percent_coelho))\n",
    "print(\"Percentual de ratos: {:.2f} %\".format(percent_rato))\n",
    "print(\"Percentual de sapos: {:.2f} %\".format(percent_sapo))"
   ]
  }
 ],
 "metadata": {
  "kernelspec": {
   "display_name": "Python 3 (ipykernel)",
   "language": "python",
   "name": "python3"
  },
  "language_info": {
   "codemirror_mode": {
    "name": "ipython",
    "version": 3
   },
   "file_extension": ".py",
   "mimetype": "text/x-python",
   "name": "python",
   "nbconvert_exporter": "python",
   "pygments_lexer": "ipython3",
   "version": "3.11.7"
  }
 },
 "nbformat": 4,
 "nbformat_minor": 5
}
