{
 "cells": [
  {
   "cell_type": "code",
   "execution_count": 2,
   "id": "b80a2b50-47c0-4066-b468-a9bf031a0ae0",
   "metadata": {},
   "outputs": [
    {
     "name": "stdout",
     "output_type": "stream",
     "text": [
      "hello world\n"
     ]
    }
   ],
   "source": [
    "print(\"hello world\") "
   ]
  },
  {
   "cell_type": "code",
   "execution_count": 3,
   "id": "e5827752-3033-48b0-bd85-51bdb512e086",
   "metadata": {},
   "outputs": [
    {
     "data": {
      "text/plain": [
       "4"
      ]
     },
     "execution_count": 3,
     "metadata": {},
     "output_type": "execute_result"
    }
   ],
   "source": [
    "#adição \n",
    "2+2"
   ]
  },
  {
   "cell_type": "code",
   "execution_count": 5,
   "id": "af8dd02a-f488-472d-9121-f1eb5663500d",
   "metadata": {},
   "outputs": [
    {
     "data": {
      "text/plain": [
       "3"
      ]
     },
     "execution_count": 5,
     "metadata": {},
     "output_type": "execute_result"
    }
   ],
   "source": [
    "#subtração \n",
    "5-2\n"
   ]
  },
  {
   "cell_type": "code",
   "execution_count": 6,
   "id": "a5dc8955-7b95-413c-bf0f-c9abfd120348",
   "metadata": {},
   "outputs": [
    {
     "data": {
      "text/plain": [
       "float"
      ]
     },
     "execution_count": 6,
     "metadata": {},
     "output_type": "execute_result"
    }
   ],
   "source": [
    "type (1.2)"
   ]
  },
  {
   "cell_type": "code",
   "execution_count": 7,
   "id": "675329ba-1146-44b2-ba82-c354d96558df",
   "metadata": {},
   "outputs": [
    {
     "data": {
      "text/plain": [
       "int"
      ]
     },
     "execution_count": 7,
     "metadata": {},
     "output_type": "execute_result"
    }
   ],
   "source": [
    "type (5)"
   ]
  },
  {
   "cell_type": "code",
   "execution_count": 10,
   "id": "5b1713aa-1dd9-4c83-9cd7-2c68f92d6f08",
   "metadata": {},
   "outputs": [
    {
     "data": {
      "text/plain": [
       "16.666666666666668"
      ]
     },
     "execution_count": 10,
     "metadata": {},
     "output_type": "execute_result"
    }
   ],
   "source": [
    "#divisão \n",
    "1000/60"
   ]
  },
  {
   "cell_type": "code",
   "execution_count": 11,
   "id": "a810b344-0b6b-485e-b486-7bd91b81301c",
   "metadata": {},
   "outputs": [
    {
     "data": {
      "text/plain": [
       "16"
      ]
     },
     "execution_count": 11,
     "metadata": {},
     "output_type": "execute_result"
    }
   ],
   "source": [
    "#divisão inteira \n",
    "1000//60"
   ]
  },
  {
   "cell_type": "code",
   "execution_count": 14,
   "id": "602ba1fc-c296-4944-8106-93d4eb8fd287",
   "metadata": {},
   "outputs": [
    {
     "data": {
      "text/plain": [
       "1024"
      ]
     },
     "execution_count": 14,
     "metadata": {},
     "output_type": "execute_result"
    }
   ],
   "source": [
    "2**10\n"
   ]
  },
  {
   "cell_type": "code",
   "execution_count": 15,
   "id": "fc21539d-1638-4057-9097-f39b350c3e51",
   "metadata": {},
   "outputs": [
    {
     "data": {
      "text/plain": [
       "40"
      ]
     },
     "execution_count": 15,
     "metadata": {},
     "output_type": "execute_result"
    }
   ],
   "source": [
    "1000%60"
   ]
  },
  {
   "cell_type": "code",
   "execution_count": 20,
   "id": "01017f35-586c-487c-b9a1-70e3a0b95c2b",
   "metadata": {},
   "outputs": [
    {
     "name": "stdout",
     "output_type": "stream",
     "text": [
      "20\n"
     ]
    },
    {
     "name": "stdin",
     "output_type": "stream",
     "text": [
      " 30\n"
     ]
    }
   ],
   "source": [
    "#variavel \n",
    "numero=10\n",
    "numero+numero\n",
    "numero=20\n",
    "numero+numero\n",
    "print(numero)\n",
    "numero=int(input())\n",
    "print(numero)"
   ]
  },
  {
   "cell_type": "code",
   "execution_count": 26,
   "id": "7b8a4713-7a99-40e1-9562-31c73d1bb83c",
   "metadata": {},
   "outputs": [
    {
     "name": "stdin",
     "output_type": "stream",
     "text": [
      "digite o lado do quadrado: 2\n"
     ]
    },
    {
     "name": "stdout",
     "output_type": "stream",
     "text": [
      "a área do quadrado é igual a 4\n",
      " o perimetro do quadrado é igual a 8\n"
     ]
    }
   ],
   "source": [
    "#desafio 1 quadrado\n",
    "a = int (input(\"digite o lado do quadrado:\"))\n",
    "area_quadrado = a**2\n",
    "perimetro_quadrado = 4*a\n",
    "print (\"a área do quadrado é igual a {}\".format (area_quadrado))\n",
    "print (\" o perimetro do quadrado é igual a {}\".format(perimetro_quadrado))\n",
    "                                                \n",
    "       "
   ]
  },
  {
   "cell_type": "code",
   "execution_count": 27,
   "id": "9c550d9b-c9c4-4351-be1e-03c918db67d1",
   "metadata": {},
   "outputs": [
    {
     "name": "stdin",
     "output_type": "stream",
     "text": [
      "digite o lado do retângulo: 10\n",
      "digite o lado do retângulo: 2\n"
     ]
    },
    {
     "name": "stdout",
     "output_type": "stream",
     "text": [
      "a área do retângulo é igual a 20\n",
      " o perimetro do retângulo é igual a 24\n"
     ]
    }
   ],
   "source": [
    "#desafio 1 retângulo \n",
    "a = int (input(\"digite o lado do retângulo:\"))\n",
    "\n",
    "\n",
    "b = int (input(\"digite o lado do retângulo:\"))\n",
    "area_retângulo = a*b\n",
    "perimetro_retângulo = 2*a+2*b\n",
    "print (\"a área do retângulo é igual a {}\".format (area_retângulo))\n",
    "print (\" o perimetro do retângulo é igual a {}\".format(perimetro_retângulo))"
   ]
  },
  {
   "cell_type": "code",
   "execution_count": 33,
   "id": "1a90038a-6abc-4851-b480-2fd53204e635",
   "metadata": {},
   "outputs": [
    {
     "name": "stdin",
     "output_type": "stream",
     "text": [
      "digite a base do triângulo 3\n",
      "digite a altura do triângulo 4\n",
      "digite a hipotenusa do triângulo retângulo 5\n"
     ]
    },
    {
     "name": "stdout",
     "output_type": "stream",
     "text": [
      "a área do triângulo é igual a 6.0\n",
      "o perimetro do triângulo é igual a 12\n"
     ]
    }
   ],
   "source": [
    "#desafio 1 triângulo\n",
    "x=int (input(\"digite a base do triângulo\"))\n",
    "y=int (input(\"digite a altura do triângulo\"))\n",
    "z=int (input(\"digite a hipotenusa do triângulo retângulo\")) \n",
    "area_triangulo=x*y/2\n",
    "perimetro_triangulo=x+y+z\n",
    "print (\"a área do triângulo é igual a {}\".format (area_triangulo))\n",
    "print (\"o perimetro do triângulo é igual a {}\".format(perimetro_triangulo))"
   ]
  },
  {
   "cell_type": "code",
   "execution_count": 41,
   "id": "0cd74eff-a2d2-4753-9d73-0ccbc50a40e0",
   "metadata": {},
   "outputs": [
    {
     "name": "stdin",
     "output_type": "stream",
     "text": [
      "digite o raio do circulo 10\n"
     ]
    },
    {
     "name": "stdout",
     "output_type": "stream",
     "text": [
      "a área do circulo é igual a 314.0\n",
      "o perimetro do circulo é igual a 62.800000000000004\n"
     ]
    }
   ],
   "source": [
    "#desafio 1 circulo\n",
    "r=int (input(\"digite o raio do circulo\"))\n",
    "area_circulo=3.14*r**2\n",
    "perimetro_circulo = 2*3.14*r\n",
    "print (\"a área do circulo é igual a {}\".format (area_circulo))\n",
    "print (\"o perimetro do circulo é igual a {}\".format(perimetro_circulo))"
   ]
  },
  {
   "cell_type": "code",
   "execution_count": 43,
   "id": "c4529cbc-91a4-4ccc-9e5f-dd567c8e6ad3",
   "metadata": {},
   "outputs": [
    {
     "name": "stdin",
     "output_type": "stream",
     "text": [
      "digite o numero do funcionario 25\n",
      "digite as horas trabalhadas 100\n",
      "digite o valor da hora 5.50\n"
     ]
    },
    {
     "name": "stdout",
     "output_type": "stream",
     "text": [
      "number=25\n",
      "salary=550.0\n"
     ]
    }
   ],
   "source": [
    "#desafio 3 \n",
    "numero=int (input(\"digite o numero do funcionario\"))\n",
    "horas_trabalhadas=int (input(\"digite as horas trabalhadas\"))\n",
    "valor_hora=float (input(\"digite o valor da hora\"))\n",
    "salario=horas_trabalhadas*valor_hora\n",
    "print (\"number={}\".format(numero))\n",
    "print (\"salary={}\".format(salario))    "
   ]
  }
 ],
 "metadata": {
  "kernelspec": {
   "display_name": "Python 3 (ipykernel)",
   "language": "python",
   "name": "python3"
  },
  "language_info": {
   "codemirror_mode": {
    "name": "ipython",
    "version": 3
   },
   "file_extension": ".py",
   "mimetype": "text/x-python",
   "name": "python",
   "nbconvert_exporter": "python",
   "pygments_lexer": "ipython3",
   "version": "3.11.7"
  }
 },
 "nbformat": 4,
 "nbformat_minor": 5
}
