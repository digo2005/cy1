{
 "cells": [
  {
   "cell_type": "code",
   "execution_count": 4,
   "id": "5155bc4b-a095-4f64-ace7-bfef5da0dbe4",
   "metadata": {},
   "outputs": [
    {
     "name": "stdout",
     "output_type": "stream",
     "text": [
      "Overwriting texto.txt\n"
     ]
    }
   ],
   "source": [
    "%%writefile texto.txt\n",
    "ctrl+play\n",
    "\n",
    "somos uma escola de programacao e robotica \n",
    "acreditamos que, em um mundo movido pela tecnologia,\n",
    "e importante que os nossos jovens compreendam essas inovações \n",
    "e mais que isso,contribuam com a producao destas tecnologias."
   ]
  },
  {
   "cell_type": "code",
   "execution_count": 6,
   "id": "c36527ed-58d2-4342-a4b3-1eab01a11c0d",
   "metadata": {},
   "outputs": [
    {
     "data": {
      "text/plain": [
       "'ctrl+play\\n\\nsomos uma escola de programacao e robotica \\nacreditamos que, em um mundo movido pela tecnologia,\\ne importante que os nossos jovens compreendam essas inovaÃ§Ãµes \\ne mais que isso,contribuam com a producao destas tecnologias.\\n'"
      ]
     },
     "execution_count": 6,
     "metadata": {},
     "output_type": "execute_result"
    }
   ],
   "source": [
    "arquivo=open(\"texto.txt\")\n",
    "arquivo.read()"
   ]
  },
  {
   "cell_type": "code",
   "execution_count": 9,
   "id": "bbd901b6-f25e-416a-a338-dd9b139ed47c",
   "metadata": {},
   "outputs": [
    {
     "name": "stdout",
     "output_type": "stream",
     "text": [
      "Writing herois.txt\n"
     ]
    }
   ],
   "source": [
    "%%writefile herois.txt \n",
    "homem-aranha,marvel"
   ]
  },
  {
   "cell_type": "code",
   "execution_count": 11,
   "id": "45e83c50-f92b-44ae-a595-3f513aa48657",
   "metadata": {},
   "outputs": [],
   "source": [
    "arquivo=open(\"herois.txt\")"
   ]
  },
  {
   "cell_type": "code",
   "execution_count": 12,
   "id": "129c404c-3681-435e-93a8-45ae719e09d4",
   "metadata": {},
   "outputs": [
    {
     "data": {
      "text/plain": [
       "'homem-aranha,marvel\\n'"
      ]
     },
     "execution_count": 12,
     "metadata": {},
     "output_type": "execute_result"
    }
   ],
   "source": [
    "arquivo.read()"
   ]
  },
  {
   "cell_type": "code",
   "execution_count": 13,
   "id": "7d5f392f-4f18-4912-bc8c-586f26e97636",
   "metadata": {},
   "outputs": [
    {
     "data": {
      "text/plain": [
       "0"
      ]
     },
     "execution_count": 13,
     "metadata": {},
     "output_type": "execute_result"
    }
   ],
   "source": [
    "arquivo.seek(0)"
   ]
  },
  {
   "cell_type": "code",
   "execution_count": 15,
   "id": "4e2e8566-a2ed-44f5-b863-63602c298b63",
   "metadata": {},
   "outputs": [
    {
     "data": {
      "text/plain": [
       "'omem-aranha,marvel\\n'"
      ]
     },
     "execution_count": 15,
     "metadata": {},
     "output_type": "execute_result"
    }
   ],
   "source": [
    "arquivo.read()"
   ]
  },
  {
   "cell_type": "code",
   "execution_count": 23,
   "id": "760f64ae-7d8b-48d3-b814-425e0fedd3a3",
   "metadata": {},
   "outputs": [
    {
     "name": "stdout",
     "output_type": "stream",
     "text": [
      "Overwriting herois.txt\n"
     ]
    }
   ],
   "source": [
    "%%writefile herois.txt \n",
    "homem-aranha,marvel\n",
    "flash,dc\n",
    "hulk,marvel\n",
    "batman,dc\n",
    "capitão america,marvel\n",
    "superman,dc\n",
    "thor,marvel\n",
    "lanterna verde,dc\n",
    "viuva negra,marvel\n",
    "mulher maravilha,dc"
   ]
  },
  {
   "cell_type": "code",
   "execution_count": 24,
   "id": "220ce97f-24ba-4d7e-b6a4-b95db60a35c7",
   "metadata": {},
   "outputs": [
    {
     "name": "stdout",
     "output_type": "stream",
     "text": [
      "homem-aranha,marvel\n",
      "\n",
      "flash,dc\n",
      "\n",
      "hulk,marvel\n",
      "\n",
      "batman,dc\n",
      "\n",
      "capitÃ£o america,marvel\n",
      "\n",
      "superman,dc\n",
      "\n",
      "thor,marvel\n",
      "\n",
      "lanterna verde,dc\n",
      "\n",
      "viuva negra,marvel\n",
      "\n",
      "mulher maravilha,dc\n",
      "\n"
     ]
    }
   ],
   "source": [
    "arquivo=open(\"herois.txt\")\n",
    "print(arquivo.readline())\n",
    "print(arquivo.readline())\n",
    "print(arquivo.readline())\n",
    "print(arquivo.readline())\n",
    "print(arquivo.readline())\n",
    "print(arquivo.readline())\n",
    "print(arquivo.readline())\n",
    "print(arquivo.readline())\n",
    "print(arquivo.readline())\n",
    "print(arquivo.readline())"
   ]
  },
  {
   "cell_type": "code",
   "execution_count": 25,
   "id": "2e2718b6-ca87-4447-8e91-6c971ad9c6d2",
   "metadata": {},
   "outputs": [
    {
     "name": "stdout",
     "output_type": "stream",
     "text": [
      "homem-aranha,marvel\n",
      "\n",
      "flash,dc\n",
      "\n",
      "hulk,marvel\n",
      "\n",
      "batman,dc\n",
      "\n",
      "capitÃ£o america,marvel\n",
      "\n",
      "superman,dc\n",
      "\n",
      "thor,marvel\n",
      "\n",
      "lanterna verde,dc\n",
      "\n",
      "viuva negra,marvel\n",
      "\n",
      "mulher maravilha,dc\n",
      "\n"
     ]
    }
   ],
   "source": [
    "arquivo=open(\"herois.txt\",\"r\")\n",
    "for x in arquivo:\n",
    "    print(x)"
   ]
  },
  {
   "cell_type": "code",
   "execution_count": 43,
   "id": "07534ff2-7fd8-43db-975e-045ca7e016f0",
   "metadata": {},
   "outputs": [
    {
     "name": "stdout",
     "output_type": "stream",
     "text": [
      "Overwriting esportes.txt\n"
     ]
    }
   ],
   "source": [
    "%%writefile esportes.txt\n",
    "    natação"
   ]
  },
  {
   "cell_type": "code",
   "execution_count": 44,
   "id": "ff42b321-d778-412a-b843-de853616d4e3",
   "metadata": {},
   "outputs": [
    {
     "name": "stdin",
     "output_type": "stream",
     "text": [
      "digite um esporte judo\n"
     ]
    },
    {
     "name": "stdout",
     "output_type": "stream",
     "text": [
      "esporte não valido\n"
     ]
    },
    {
     "ename": "KeyboardInterrupt",
     "evalue": "Interrupted by user",
     "output_type": "error",
     "traceback": [
      "\u001b[1;31m---------------------------------------------------------------------------\u001b[0m",
      "\u001b[1;31mKeyboardInterrupt\u001b[0m                         Traceback (most recent call last)",
      "Cell \u001b[1;32mIn[44], line 4\u001b[0m\n\u001b[0;32m      2\u001b[0m arquivo\u001b[38;5;241m=\u001b[39m\u001b[38;5;28mopen\u001b[39m(\u001b[38;5;124m\"\u001b[39m\u001b[38;5;124mesportes.txt\u001b[39m\u001b[38;5;124m\"\u001b[39m,\u001b[38;5;124m\"\u001b[39m\u001b[38;5;124ma\u001b[39m\u001b[38;5;124m\"\u001b[39m)\n\u001b[0;32m      3\u001b[0m \u001b[38;5;28;01mfor\u001b[39;00m x \u001b[38;5;129;01min\u001b[39;00m \u001b[38;5;28mrange\u001b[39m(\u001b[38;5;241m0\u001b[39m,\u001b[38;5;241m10\u001b[39m):\n\u001b[1;32m----> 4\u001b[0m     esporte\u001b[38;5;241m=\u001b[39m\u001b[38;5;28minput\u001b[39m(\u001b[38;5;124m\"\u001b[39m\u001b[38;5;124mdigite um esporte\u001b[39m\u001b[38;5;124m\"\u001b[39m)\n\u001b[0;32m      5\u001b[0m     \u001b[38;5;28;01mif\u001b[39;00m esporte \u001b[38;5;129;01mnot\u001b[39;00m \u001b[38;5;129;01min\u001b[39;00m lista:\n\u001b[0;32m      6\u001b[0m         \u001b[38;5;28mprint\u001b[39m(\u001b[38;5;124m\"\u001b[39m\u001b[38;5;124mesporte não valido\u001b[39m\u001b[38;5;124m\"\u001b[39m)\n",
      "File \u001b[1;32m~\\anaconda3\\Lib\\site-packages\\ipykernel\\kernelbase.py:1262\u001b[0m, in \u001b[0;36mKernel.raw_input\u001b[1;34m(self, prompt)\u001b[0m\n\u001b[0;32m   1260\u001b[0m     msg \u001b[38;5;241m=\u001b[39m \u001b[38;5;124m\"\u001b[39m\u001b[38;5;124mraw_input was called, but this frontend does not support input requests.\u001b[39m\u001b[38;5;124m\"\u001b[39m\n\u001b[0;32m   1261\u001b[0m     \u001b[38;5;28;01mraise\u001b[39;00m StdinNotImplementedError(msg)\n\u001b[1;32m-> 1262\u001b[0m \u001b[38;5;28;01mreturn\u001b[39;00m \u001b[38;5;28mself\u001b[39m\u001b[38;5;241m.\u001b[39m_input_request(\n\u001b[0;32m   1263\u001b[0m     \u001b[38;5;28mstr\u001b[39m(prompt),\n\u001b[0;32m   1264\u001b[0m     \u001b[38;5;28mself\u001b[39m\u001b[38;5;241m.\u001b[39m_parent_ident[\u001b[38;5;124m\"\u001b[39m\u001b[38;5;124mshell\u001b[39m\u001b[38;5;124m\"\u001b[39m],\n\u001b[0;32m   1265\u001b[0m     \u001b[38;5;28mself\u001b[39m\u001b[38;5;241m.\u001b[39mget_parent(\u001b[38;5;124m\"\u001b[39m\u001b[38;5;124mshell\u001b[39m\u001b[38;5;124m\"\u001b[39m),\n\u001b[0;32m   1266\u001b[0m     password\u001b[38;5;241m=\u001b[39m\u001b[38;5;28;01mFalse\u001b[39;00m,\n\u001b[0;32m   1267\u001b[0m )\n",
      "File \u001b[1;32m~\\anaconda3\\Lib\\site-packages\\ipykernel\\kernelbase.py:1305\u001b[0m, in \u001b[0;36mKernel._input_request\u001b[1;34m(self, prompt, ident, parent, password)\u001b[0m\n\u001b[0;32m   1302\u001b[0m \u001b[38;5;28;01mexcept\u001b[39;00m \u001b[38;5;167;01mKeyboardInterrupt\u001b[39;00m:\n\u001b[0;32m   1303\u001b[0m     \u001b[38;5;66;03m# re-raise KeyboardInterrupt, to truncate traceback\u001b[39;00m\n\u001b[0;32m   1304\u001b[0m     msg \u001b[38;5;241m=\u001b[39m \u001b[38;5;124m\"\u001b[39m\u001b[38;5;124mInterrupted by user\u001b[39m\u001b[38;5;124m\"\u001b[39m\n\u001b[1;32m-> 1305\u001b[0m     \u001b[38;5;28;01mraise\u001b[39;00m \u001b[38;5;167;01mKeyboardInterrupt\u001b[39;00m(msg) \u001b[38;5;28;01mfrom\u001b[39;00m \u001b[38;5;28;01mNone\u001b[39;00m\n\u001b[0;32m   1306\u001b[0m \u001b[38;5;28;01mexcept\u001b[39;00m \u001b[38;5;167;01mException\u001b[39;00m:\n\u001b[0;32m   1307\u001b[0m     \u001b[38;5;28mself\u001b[39m\u001b[38;5;241m.\u001b[39mlog\u001b[38;5;241m.\u001b[39mwarning(\u001b[38;5;124m\"\u001b[39m\u001b[38;5;124mInvalid Message:\u001b[39m\u001b[38;5;124m\"\u001b[39m, exc_info\u001b[38;5;241m=\u001b[39m\u001b[38;5;28;01mTrue\u001b[39;00m)\n",
      "\u001b[1;31mKeyboardInterrupt\u001b[0m: Interrupted by user"
     ]
    }
   ],
   "source": [
    "lista=[\"futebol\",\"basquete\",\"tennis\",\"volei\",\"boxe\",\"natação\",\"revezamento\",\"boliche\",\"frisbee\",\"corrida\"]\n",
    "arquivo=open(\"esportes.txt\",\"a\")\n",
    "for x in range(0,10):\n",
    "    esporte=input(\"digite um esporte\")\n",
    "    if esporte not in lista:\n",
    "        print(\"esporte não valido\")\n",
    "    else:\n",
    "        arquivo.write(\"\\n{}\".format(esporte))\n",
    "arquivo=open(\"esportes.txt\")\n",
    "for y in arquivo:\n",
    "    print(y)"
   ]
  },
  {
   "cell_type": "code",
   "execution_count": 45,
   "id": "bd634805-11e1-4aba-9815-63676b326508",
   "metadata": {},
   "outputs": [
    {
     "name": "stdout",
     "output_type": "stream",
     "text": [
      "homem-aranha,marvel\n",
      "\n",
      "flash,dc\n",
      "\n",
      "hulk,marvel\n",
      "\n",
      "batman,dc\n",
      "\n",
      "capitÃ£o america,marvel\n",
      "\n",
      "superman,dc\n",
      "\n",
      "thor,marvel\n",
      "\n",
      "lanterna verde,dc\n",
      "\n",
      "viuva negra,marvel\n",
      "\n",
      "mulher maravilha,dc\n",
      "\n"
     ]
    }
   ],
   "source": [
    "with open(\"herois.txt\") as arquivo:\n",
    "    for x in arquivo:\n",
    "        print (x)"
   ]
  },
  {
   "cell_type": "code",
   "execution_count": 54,
   "id": "95e6174e-91e7-458c-b7e9-b59f1f2ba542",
   "metadata": {},
   "outputs": [
    {
     "name": "stdout",
     "output_type": "stream",
     "text": [
      "intervalo [50,75]\n"
     ]
    }
   ],
   "source": [
    "#desafio 1 \n",
    "arquivo=open(\"ponto_float.txt\")\n",
    "ponto=int(arquivo.read())\n",
    "if 0<=ponto<=25:\n",
    "    print(\"intervalo [0,25]\")\n",
    "elif 25<=ponto<=50:\n",
    "    print(\"intervalo [25,50]\")\n",
    "elif 50<=ponto<=75:\n",
    "    print(\"intervalo [50,75]\")\n",
    "elif 75<=ponto<=100:\n",
    "    print(\"intervalo [75,100]\")\n",
    "else:\n",
    "    print(\"fora de intervalo\")"
   ]
  }
 ],
 "metadata": {
  "kernelspec": {
   "display_name": "Python 3 (ipykernel)",
   "language": "python",
   "name": "python3"
  },
  "language_info": {
   "codemirror_mode": {
    "name": "ipython",
    "version": 3
   },
   "file_extension": ".py",
   "mimetype": "text/x-python",
   "name": "python",
   "nbconvert_exporter": "python",
   "pygments_lexer": "ipython3",
   "version": "3.11.7"
  }
 },
 "nbformat": 4,
 "nbformat_minor": 5
}
