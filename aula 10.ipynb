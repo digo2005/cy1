{
 "cells": [
  {
   "cell_type": "code",
   "execution_count": 16,
   "id": "b7eceb6e-6bd2-4af3-bbca-a74a13c6e71f",
   "metadata": {},
   "outputs": [
    {
     "name": "stdin",
     "output_type": "stream",
     "text": [
      " 3\n",
      " 9\n"
     ]
    },
    {
     "name": "stdout",
     "output_type": "stream",
     "text": [
      "PROD = 27\n"
     ]
    }
   ],
   "source": [
    "x=int(input())\n",
    "y=int(input())\n",
    "print(\"PROD = {}\".format(x*y))"
   ]
  },
  {
   "cell_type": "code",
   "execution_count": 17,
   "id": "aff6db29-08e1-4dd8-85cc-db20ed4a2819",
   "metadata": {},
   "outputs": [
    {
     "name": "stdin",
     "output_type": "stream",
     "text": [
      " -30\n",
      " 10\n"
     ]
    },
    {
     "name": "stdout",
     "output_type": "stream",
     "text": [
      "PROD = -300\n"
     ]
    }
   ],
   "source": [
    "x=int(input())\n",
    "y=int(input())\n",
    "print(\"PROD = {}\".format(x*y))"
   ]
  },
  {
   "cell_type": "code",
   "execution_count": 18,
   "id": "dd62a8e5-4f09-4b02-8c60-525c2d87cf1b",
   "metadata": {},
   "outputs": [
    {
     "name": "stdin",
     "output_type": "stream",
     "text": [
      " 0\n",
      " 9\n"
     ]
    },
    {
     "name": "stdout",
     "output_type": "stream",
     "text": [
      "PROD = 0\n"
     ]
    }
   ],
   "source": [
    "x=int(input())\n",
    "y=int(input())\n",
    "print(\"PROD = {}\".format(x*y))"
   ]
  },
  {
   "cell_type": "code",
   "execution_count": 23,
   "id": "9e341a19-c739-42cc-a570-619a56c0dbb1",
   "metadata": {},
   "outputs": [
    {
     "name": "stdin",
     "output_type": "stream",
     "text": [
      " 10\n",
      " 9\n"
     ]
    },
    {
     "name": "stdout",
     "output_type": "stream",
     "text": [
      "X = 19\n"
     ]
    }
   ],
   "source": [
    "x=int(input())\n",
    "y=int(input())\n",
    "print(\"X = {}\".format(x+y))"
   ]
  },
  {
   "cell_type": "code",
   "execution_count": 28,
   "id": "d07aede3-bc2e-4d71-952c-65d0ec0650fc",
   "metadata": {},
   "outputs": [
    {
     "name": "stdin",
     "output_type": "stream",
     "text": [
      " -10\n",
      " 4\n"
     ]
    },
    {
     "name": "stdout",
     "output_type": "stream",
     "text": [
      "X = -14\n"
     ]
    }
   ],
   "source": [
    "x=int(input())\n",
    "y=int(input())\n",
    "print(\"X = {}\".format(x-y))"
   ]
  },
  {
   "cell_type": "code",
   "execution_count": 25,
   "id": "4943ded7-99b4-4742-bcdf-ffb97e6be0b9",
   "metadata": {},
   "outputs": [
    {
     "name": "stdin",
     "output_type": "stream",
     "text": [
      " 15\n",
      " -7\n"
     ]
    },
    {
     "name": "stdout",
     "output_type": "stream",
     "text": [
      "X = 22\n"
     ]
    }
   ],
   "source": [
    "x=int(input())\n",
    "y=int(input())\n",
    "print(\"X = {}\".format(x-y))"
   ]
  },
  {
   "cell_type": "code",
   "execution_count": 3,
   "id": "8da2ae43-65f1-4758-a65c-20aa7b570ca3",
   "metadata": {},
   "outputs": [
    {
     "name": "stdin",
     "output_type": "stream",
     "text": [
      " 10\n"
     ]
    },
    {
     "name": "stdout",
     "output_type": "stream",
     "text": [
      "A=314.1590\n"
     ]
    }
   ],
   "source": [
    "x=float(input())\n",
    "area=3.14159*x**2\n",
    "print(\"A={:.4f}\".format(area))"
   ]
  },
  {
   "cell_type": "code",
   "execution_count": 10,
   "id": "01f965b4-7a3e-403c-a279-aa843cb7381f",
   "metadata": {},
   "outputs": [
    {
     "name": "stdin",
     "output_type": "stream",
     "text": [
      " 25\n",
      " 100\n",
      " 5.5\n"
     ]
    },
    {
     "name": "stdout",
     "output_type": "stream",
     "text": [
      "NUMBER = 25\n",
      "SALARY = U$ 550.00\n"
     ]
    }
   ],
   "source": [
    "number=int(input())\n",
    "horastrabalhadas=int(input())\n",
    "valorhora=float(input())\n",
    "salario=horastrabalhadas*valorhora\n",
    "print(\"NUMBER = {}\".format(number))\n",
    "print(\"SALARY = U$ {:.2F}\".format(salario))"
   ]
  },
  {
   "cell_type": "code",
   "execution_count": 11,
   "id": "9d13d91d-0819-43a6-914b-474ff53fe6ff",
   "metadata": {},
   "outputs": [
    {
     "name": "stdin",
     "output_type": "stream",
     "text": [
      " 30\n",
      " 10\n"
     ]
    },
    {
     "name": "stdout",
     "output_type": "stream",
     "text": [
      "PROD = 300\n"
     ]
    }
   ],
   "source": [
    "x=int(input())\n",
    "y=int(input())\n",
    "z=(x+y)\n",
    "print(x"
   ]
  }
 ],
 "metadata": {
  "kernelspec": {
   "display_name": "Python 3 (ipykernel)",
   "language": "python",
   "name": "python3"
  },
  "language_info": {
   "codemirror_mode": {
    "name": "ipython",
    "version": 3
   },
   "file_extension": ".py",
   "mimetype": "text/x-python",
   "name": "python",
   "nbconvert_exporter": "python",
   "pygments_lexer": "ipython3",
   "version": "3.11.7"
  }
 },
 "nbformat": 4,
 "nbformat_minor": 5
}
