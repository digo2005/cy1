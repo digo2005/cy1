{
 "cells": [
  {
   "cell_type": "code",
   "execution_count": 1,
   "id": "59440414-bbcf-4206-852d-42c06c3fde7e",
   "metadata": {},
   "outputs": [
    {
     "name": "stdout",
     "output_type": "stream",
     "text": [
      "1\n",
      "2\n",
      "3\n",
      "4\n",
      "5\n",
      "6\n",
      "7\n",
      "8\n",
      "9\n",
      "10\n"
     ]
    }
   ],
   "source": [
    "print (\"1\")\n",
    "print (\"2\")\n",
    "print (\"3\")\n",
    "print (\"4\")\n",
    "print (\"5\")\n",
    "print (\"6\")\n",
    "print (\"7\")\n",
    "print (\"8\")\n",
    "print (\"9\")\n",
    "print (\"10\")"
   ]
  },
  {
   "cell_type": "code",
   "execution_count": 4,
   "id": "b7c6827f-21c5-4742-98a6-e9c8ccffdaa7",
   "metadata": {},
   "outputs": [
    {
     "name": "stdout",
     "output_type": "stream",
     "text": [
      "1\n",
      "2\n",
      "3\n",
      "4\n",
      "5\n",
      "6\n",
      "7\n",
      "8\n",
      "9\n",
      "10\n",
      "1\n",
      "2\n",
      "3\n",
      "4\n",
      "5\n",
      "6\n",
      "7\n",
      "8\n",
      "9\n",
      "10\n",
      "11\n",
      "12\n",
      "13\n",
      "14\n",
      "15\n",
      "16\n",
      "17\n",
      "18\n",
      "19\n",
      "20\n",
      "21\n",
      "22\n",
      "23\n",
      "24\n",
      "25\n",
      "26\n",
      "27\n",
      "28\n",
      "29\n",
      "30\n",
      "31\n",
      "32\n",
      "33\n",
      "34\n",
      "35\n",
      "36\n",
      "37\n",
      "38\n",
      "39\n",
      "40\n",
      "41\n",
      "42\n",
      "43\n",
      "44\n",
      "45\n",
      "46\n",
      "47\n",
      "48\n",
      "49\n",
      "50\n"
     ]
    }
   ],
   "source": [
    "for c in range(1,11):    \n",
    "     print(c)\n",
    "for c in range(1,51):    \n",
    "     print(c)    "
   ]
  },
  {
   "cell_type": "code",
   "execution_count": 7,
   "id": "068dcec7-9e38-46a1-b4db-9a817dc37e4c",
   "metadata": {},
   "outputs": [
    {
     "name": "stdout",
     "output_type": "stream",
     "text": [
      "ovos\n",
      "banana\n",
      "leite\n",
      "farinha\n",
      "açúcar\n",
      "fermento\n",
      "manteiga\n"
     ]
    }
   ],
   "source": [
    "lista=[\"ovos\",\"banana\",\"leite\",\"farinha\",\"açúcar\",\"fermento\",\"manteiga\"]\n",
    "for item in lista: \n",
    "    print(item)"
   ]
  },
  {
   "cell_type": "code",
   "execution_count": 15,
   "id": "84776518-ca13-4c93-bd76-4e1bd4634a07",
   "metadata": {},
   "outputs": [
    {
     "name": "stdout",
     "output_type": "stream",
     "text": [
      "2\n",
      "4\n",
      "6\n",
      "8\n",
      "10\n",
      "1\n",
      "3\n",
      "5\n",
      "7\n",
      "9\n"
     ]
    }
   ],
   "source": [
    "for num in range (1,11):\n",
    "    if num%2==0: \n",
    "        print (num)\n",
    "for num in range(1,11):    \n",
    "    if num%2!=0:\n",
    "        print (num)  "
   ]
  },
  {
   "cell_type": "code",
   "execution_count": 17,
   "id": "c1af7478-bc4b-4d17-bbdf-d08f1b1788cb",
   "metadata": {},
   "outputs": [
    {
     "name": "stdout",
     "output_type": "stream",
     "text": [
      "1\n",
      "6\n",
      "11\n",
      "16\n",
      "21\n",
      "26\n",
      "31\n",
      "36\n",
      "41\n",
      "46\n",
      "51\n",
      "56\n",
      "61\n",
      "66\n",
      "71\n",
      "76\n",
      "81\n",
      "86\n",
      "91\n",
      "96\n"
     ]
    }
   ],
   "source": [
    "for num in range (1,101,5):\n",
    "        print (num)"
   ]
  },
  {
   "cell_type": "code",
   "execution_count": 18,
   "id": "fba5a8b1-cf6e-48ce-b32b-208d3798d626",
   "metadata": {},
   "outputs": [
    {
     "name": "stdout",
     "output_type": "stream",
     "text": [
      "r\n",
      "o\n",
      "d\n",
      "r\n",
      "i\n",
      "g\n",
      "o\n",
      " \n",
      "b\n",
      "e\n",
      "r\n",
      "n\n",
      "a\n",
      "r\n",
      "d\n",
      " \n",
      "v\n",
      "e\n",
      "i\n",
      "g\n",
      "a\n"
     ]
    }
   ],
   "source": [
    "for letra in \"rodrigo bernard veiga\":\n",
    "    print(letra)"
   ]
  },
  {
   "cell_type": "code",
   "execution_count": 19,
   "id": "665c326a-1494-4adb-a4e7-94d97c98a00b",
   "metadata": {},
   "outputs": [
    {
     "name": "stdout",
     "output_type": "stream",
     "text": [
      "1\n",
      "2\n",
      "3\n",
      "4\n",
      "5\n",
      "6\n",
      "7\n",
      "8\n",
      "9\n",
      "10\n"
     ]
    }
   ],
   "source": [
    "cont=1\n",
    "while cont<11:\n",
    "    print(cont)\n",
    "    cont=cont+1"
   ]
  },
  {
   "cell_type": "code",
   "execution_count": 27,
   "id": "8407938a-1b15-4193-be1d-75fa60898286",
   "metadata": {},
   "outputs": [
    {
     "name": "stdin",
     "output_type": "stream",
     "text": [
      "digite um nome joão\n",
      "digite um nome maria\n",
      "digite um nome ana\n",
      "digite um nome pedro\n",
      "digite um nome valentina\n"
     ]
    },
    {
     "name": "stdout",
     "output_type": "stream",
     "text": [
      "['joão', 'maria', 'ana', 'pedro', 'valentina']\n"
     ]
    }
   ],
   "source": [
    "lista=[]\n",
    "pessoas=0\n",
    "while pessoas<5:\n",
    "  nome=input(\"digite um nome\")\n",
    "  lista.append(nome)\n",
    "  pessoas=pessoas+1\n",
    "print(lista)"
   ]
  },
  {
   "cell_type": "code",
   "execution_count": 31,
   "id": "17a9a0cb-db55-42e6-8d21-80bc2cb2d5b4",
   "metadata": {},
   "outputs": [
    {
     "name": "stdout",
     "output_type": "stream",
     "text": [
      "105\n",
      "14\n"
     ]
    }
   ],
   "source": [
    "soma=0\n",
    "numeros=range(1,1000)\n",
    "i=0\n",
    "while soma<100:\n",
    "    soma+=numeros[i]\n",
    "    i+=1\n",
    "print(soma)\n",
    "print(i)"
   ]
  },
  {
   "cell_type": "code",
   "execution_count": 66,
   "id": "86fecc83-168c-4996-adbb-75b72a4b722b",
   "metadata": {},
   "outputs": [
    {
     "name": "stdout",
     "output_type": "stream",
     "text": [
      "[42, 25, 27, 9, 3, 40]\n",
      "[58, 6, 9, 60, 28, 18]\n",
      "[46, 46, 59, 31, 4, 59]\n",
      "[29, 13, 33, 40, 22, 14]\n",
      "[27, 48, 13, 8, 57, 11]\n",
      "[23, 17, 14, 20, 26, 54]\n",
      "[44, 48, 14, 26, 60, 5]\n",
      "[57, 50, 20, 45, 22, 13]\n",
      "[57, 60, 28, 6, 1, 24]\n",
      "[14, 20, 20, 51, 59, 54]\n"
     ]
    }
   ],
   "source": [
    "from random import randint\n",
    "i=jogo=0\n",
    "megasena=[]\n",
    "while jogo<10:\n",
    "    while i<6:\n",
    "        megasena.append(randint(1,60))\n",
    "        i+=1\n",
    "    print(megasena)\n",
    "    i=0\n",
    "    megasena=[]\n",
    "    jogo+=1"
   ]
  },
  {
   "cell_type": "code",
   "execution_count": 85,
   "id": "1cb37503-6358-4ab6-bfad-5bd56bba7161",
   "metadata": {},
   "outputs": [
    {
     "name": "stdout",
     "output_type": "stream",
     "text": [
      "\n",
      "    [1] continuar \n",
      "    [2] sair\n",
      "    \n"
     ]
    },
    {
     "name": "stdin",
     "output_type": "stream",
     "text": [
      "qual a sua opcao? 1\n",
      "digite um time: real madrid\n"
     ]
    },
    {
     "name": "stdout",
     "output_type": "stream",
     "text": [
      "\n",
      "    [1] continuar \n",
      "    [2] sair\n",
      "    \n"
     ]
    },
    {
     "name": "stdin",
     "output_type": "stream",
     "text": [
      "qual a sua opcao? 2\n"
     ]
    },
    {
     "name": "stdout",
     "output_type": "stream",
     "text": [
      "obrigado\n",
      "['real madrid']\n"
     ]
    }
   ],
   "source": [
    "lista=[]\n",
    "while True:\n",
    "    print (\"\"\"\n",
    "    [1] continuar \n",
    "    [2] sair\n",
    "    \"\"\")\n",
    "    opcao=input(\"qual a sua opcao?\")\n",
    "    if opcao==\"1\":\n",
    "        time=input(\"digite um time:\")\n",
    "        lista.append(time)\n",
    "    if opcao==\"2\":\n",
    "        print(\"obrigado\")\n",
    "        break\n",
    "print(lista)    "
   ]
  },
  {
   "cell_type": "code",
   "execution_count": 89,
   "id": "20e496a0-56bf-46e0-9110-394c65f0809f",
   "metadata": {},
   "outputs": [
    {
     "name": "stdin",
     "output_type": "stream",
     "text": [
      " 10\n"
     ]
    },
    {
     "name": "stdout",
     "output_type": "stream",
     "text": [
      "0 1 1 2 3 5 8 13 21 34\n"
     ]
    }
   ],
   "source": [
    "n=int(input())\n",
    "fibo1=0\n",
    "fibo2=1\n",
    "if n==1:\n",
    "    print(\"{}\".format(fibo1),end=\" \")\n",
    "if n==2:\n",
    "    print(\"{} {}\".format(fibo1,fibo2),end=\" \")\n",
    "if n>=3:\n",
    "    print(\"{} {}\".format(fibo1,fibo2),end=\" \")\n",
    "    for cont in range (3,n+1):\n",
    "        fibo3=fibo1+fibo2\n",
    "        fibo1=fibo2\n",
    "        fibo2=fibo3\n",
    "        if cont == n:\n",
    "            print(\"{}\".format(fibo3))\n",
    "        else:\n",
    "            print(\"{}\".format(fibo3),end=\" \")"
   ]
  }
 ],
 "metadata": {
  "kernelspec": {
   "display_name": "Python 3 (ipykernel)",
   "language": "python",
   "name": "python3"
  },
  "language_info": {
   "codemirror_mode": {
    "name": "ipython",
    "version": 3
   },
   "file_extension": ".py",
   "mimetype": "text/x-python",
   "name": "python",
   "nbconvert_exporter": "python",
   "pygments_lexer": "ipython3",
   "version": "3.11.7"
  }
 },
 "nbformat": 4,
 "nbformat_minor": 5
}
