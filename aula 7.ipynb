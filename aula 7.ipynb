{
 "cells": [
  {
   "cell_type": "code",
   "execution_count": 1,
   "id": "90b5aec1-87c0-4769-b88a-f195493c9815",
   "metadata": {},
   "outputs": [
    {
     "name": "stdout",
     "output_type": "stream",
     "text": [
      "hello mexico\n"
     ]
    }
   ],
   "source": [
    "print(\"hello mexico\")"
   ]
  },
  {
   "cell_type": "code",
   "execution_count": 20,
   "id": "ebff7683-aa22-493e-bfde-0fd71c01725e",
   "metadata": {},
   "outputs": [
    {
     "name": "stdout",
     "output_type": "stream",
     "text": [
      "Bem-vindo à Ctrl+play!\n"
     ]
    }
   ],
   "source": [
    "# definindo uma função\n",
    "def Boas_Vindas():\n",
    "    print(\"Bem-vindo à Ctrl+play!\")\n",
    "\n",
    "# programa principal\n",
    "Boas_Vindas()"
   ]
  },
  {
   "cell_type": "code",
   "execution_count": 21,
   "id": "26fcb5c8-3c63-4e01-bb05-76c6ac809e3a",
   "metadata": {},
   "outputs": [
    {
     "name": "stdout",
     "output_type": "stream",
     "text": [
      "Bem-vindo (a),rodrigo à Ctrl+play!\n"
     ]
    }
   ],
   "source": [
    "def Boas_Vindas(nome):\n",
    "    print(\"Bem-vindo (a),{} à Ctrl+play!\".format(nome))\n",
    "\n",
    "Boas_Vindas(\"rodrigo\")"
   ]
  },
  {
   "cell_type": "code",
   "execution_count": 37,
   "id": "d7abd5b1-6802-4dd7-8c1b-6bb0e49785f6",
   "metadata": {},
   "outputs": [
    {
     "name": "stdout",
     "output_type": "stream",
     "text": [
      "harry potter\n",
      "minions\n",
      "bob esponja o filme\n"
     ]
    }
   ],
   "source": [
    "def filme_favorito(titulo):\n",
    "    print(titulo)\n",
    "filme_favorito(\"harry potter\")\n",
    "filme_favorito(\"minions\")\n",
    "filme_favorito(\"bob esponja o filme\")"
   ]
  },
  {
   "cell_type": "code",
   "execution_count": 38,
   "id": "2629b32a-b5dc-4b79-a2b5-437a1a935219",
   "metadata": {},
   "outputs": [
    {
     "name": "stdout",
     "output_type": "stream",
     "text": [
      "50.0\n"
     ]
    }
   ],
   "source": [
    "def velocidade(tempo,distância):\n",
    "    print(distância/tempo)\n",
    "\n",
    "velocidade(200,4)"
   ]
  },
  {
   "cell_type": "code",
   "execution_count": 39,
   "id": "3a6dc652-f6ab-4540-b097-bc0d3ea3bd2c",
   "metadata": {},
   "outputs": [
    {
     "name": "stdout",
     "output_type": "stream",
     "text": [
      "50.0\n"
     ]
    }
   ],
   "source": [
    "def velocidade(tempo,distância):\n",
    "    print(distância/tempo)\n",
    "\n",
    "velocidade(tempo=4,distancia=200)"
   ]
  },
  {
   "cell_type": "code",
   "execution_count": 45,
   "id": "f6c20e68-cefe-4306-86ff-38d2ec60899d",
   "metadata": {},
   "outputs": [
    {
     "name": "stdout",
     "output_type": "stream",
     "text": [
      "100.0\n"
     ]
    }
   ],
   "source": [
    "def velocidade(tempo,distância=400):\n",
    "    print(distância/tempo)\n",
    "\n",
    "velocidade(4)"
   ]
  },
  {
   "cell_type": "code",
   "execution_count": 50,
   "id": "e0edc44b-d9ea-4705-aa64-9be50eac5d32",
   "metadata": {},
   "outputs": [
    {
     "name": "stdout",
     "output_type": "stream",
     "text": [
      "o menor valor entre 0 e 0 é 0\n"
     ]
    }
   ],
   "source": [
    "def menor(x,y):\n",
    "    if x <= y:\n",
    "        return x\n",
    "    else:\n",
    "        return y\n",
    "\n",
    "a=int()\n",
    "b=int()\n",
    "print(\"o menor valor entre {} e {} é {}\".format(a,b,menor(a,b)))"
   ]
  },
  {
   "cell_type": "code",
   "execution_count": 53,
   "id": "61a9af72-e7e6-4ad4-ac46-f0215f1f4251",
   "metadata": {},
   "outputs": [
    {
     "name": "stdout",
     "output_type": "stream",
     "text": [
      "\n",
      " preparando um açaímedio com os seguintes ingredientes:\n",
      "- banana\n",
      "- granola\n",
      "\n",
      " preparando um açaígrande com os seguintes ingredientes:\n",
      "- morango\n",
      "- kiwi\n",
      "- leite em pó\n",
      "\n",
      " preparando um açaípequeno com os seguintes ingredientes:\n",
      "- banana\n",
      "\n",
      " preparando um açaímedio com os seguintes ingredientes:\n",
      "- nutella\n",
      "- leite ninho\n",
      "- leite moca\n"
     ]
    }
   ],
   "source": [
    "def prepara_acai(*ingredientes,tamanho=\"medio\"):\n",
    "    print(\"\\n preparando um açaí{} com os seguintes ingredientes:\".format(tamanho))\n",
    "    for ingrediente in ingredientes:\n",
    "        print(\"-\",ingrediente)\n",
    "\n",
    "prepara_acai(\"banana\",\"granola\")\n",
    "prepara_acai(\"morango\",\"kiwi\",\"leite em pó\",tamanho=\"grande\")\n",
    "prepara_acai(\"banana\",tamanho=\"pequeno\")\n",
    "prepara_acai(\"nutella\",\"leite ninho\",\"leite moca\")"
   ]
  },
  {
   "cell_type": "code",
   "execution_count": 66,
   "id": "5483c251-7211-43fe-afc0-be4c768115d9",
   "metadata": {},
   "outputs": [
    {
     "name": "stdout",
     "output_type": "stream",
     "text": [
      "são paulo está localizada no brasil\n",
      "londres está localizada no reino unido\n"
     ]
    }
   ],
   "source": [
    "def cidadeepais(cidade,pais=\"brasil\"):\n",
    "    print(\"{} está localizada no {}\".format (cidade,pais))\n",
    "\n",
    "\n",
    "cidadeepais(\"são paulo\")\n",
    "cidadeepais(\"londres\",\"reino unido\")"
   ]
  },
  {
   "cell_type": "code",
   "execution_count": 91,
   "id": "56d516e4-5f05-4c93-bb6b-3f120b1e6775",
   "metadata": {},
   "outputs": [
    {
     "name": "stdin",
     "output_type": "stream",
     "text": [
      " 7 14 106\n"
     ]
    },
    {
     "name": "stdout",
     "output_type": "stream",
     "text": [
      "212 eh o maior\n"
     ]
    }
   ],
   "source": [
    "def maior(a,b):\n",
    "    maiorab=(a+b+abs(a-b))\n",
    "    return maiorab\n",
    "#programa\n",
    "entrada=input().split()\n",
    "a=int(entrada[0])\n",
    "b=int(entrada[1])\n",
    "c=int(entrada[2])\n",
    "x=maior(a,b)\n",
    "y=maior(x,c)\n",
    "print(\"{:.0f} eh o maior\".format(y))"
   ]
  },
  {
   "cell_type": "code",
   "execution_count": null,
   "id": "b6eb0b02-5438-46e4-adfa-f4823891038f",
   "metadata": {},
   "outputs": [],
   "source": []
  }
 ],
 "metadata": {
  "kernelspec": {
   "display_name": "Python 3 (ipykernel)",
   "language": "python",
   "name": "python3"
  },
  "language_info": {
   "codemirror_mode": {
    "name": "ipython",
    "version": 3
   },
   "file_extension": ".py",
   "mimetype": "text/x-python",
   "name": "python",
   "nbconvert_exporter": "python",
   "pygments_lexer": "ipython3",
   "version": "3.11.7"
  }
 },
 "nbformat": 4,
 "nbformat_minor": 5
}
