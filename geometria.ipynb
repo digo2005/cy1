{
 "cells": [
  {
   "cell_type": "code",
   "execution_count": 2,
   "id": "70a77dfb-e78e-4f30-980b-66b172cbf688",
   "metadata": {},
   "outputs": [],
   "source": [
    "def areacirculo(r):\n",
    "    import math\n",
    "    return math.pi* math.pow(r,2)"
   ]
  }
 ],
 "metadata": {
  "kernelspec": {
   "display_name": "Python 3 (ipykernel)",
   "language": "python",
   "name": "python3"
  },
  "language_info": {
   "codemirror_mode": {
    "name": "ipython",
    "version": 3
   },
   "file_extension": ".py",
   "mimetype": "text/x-python",
   "name": "python",
   "nbconvert_exporter": "python",
   "pygments_lexer": "ipython3",
   "version": "3.11.7"
  }
 },
 "nbformat": 4,
 "nbformat_minor": 5
}
